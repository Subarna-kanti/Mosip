{
 "cells": [
  {
   "cell_type": "code",
   "execution_count": null,
   "metadata": {},
   "outputs": [],
   "source": [
    "import openpyxl, pprint, json\n",
    "print('Opening workbook...')\n",
    "wb = openpyxl.load_workbook('excel_form.xlsx')\n",
    "sheet = wb.get_sheet_by_name('Sheet')\n",
    "\n",
    "\n",
    "excel_data = {}\n",
    "print('Reading rows...')\n",
    "for row in range(2, sheet.max_row + 1):\n",
    "    Col F  = sheet['F' + str(row)].value\n",
    "    Col C = sheet['C' + str(row)].value\n",
    "    Col A = sheet['A' + str(row)].value\n",
    "\n",
    "    excel_data.setdefault(Col F, {})\n",
    "    excel_data[Col F].setdefault(Col C, {'Col A': Col A})\n",
    "\n",
    "\n",
    "# Open a new text file and write the contents of excel_data to it.\n",
    "print('Writing results...')\n",
    "with open('DATA.json', 'w') as resultFile:\n",
    "    json.dump(Matrix, resultFile)\n",
    "print('Done.')"
   ]
  },
  {
   "cell_type": "code",
   "execution_count": 1,
   "metadata": {},
   "outputs": [
    {
     "name": "stdout",
     "output_type": "stream",
     "text": [
      "Collecting excel2json-3\n",
      "  Downloading excel2json_3-0.1.6-py3-none-any.whl (7.0 kB)\n",
      "Requirement already satisfied: xlrd in /home/subarna/anaconda3/lib/python3.7/site-packages (from excel2json-3) (1.2.0)\n",
      "Collecting openpyxl\n",
      "  Downloading openpyxl-3.0.5-py2.py3-none-any.whl (242 kB)\n",
      "\u001b[K     |████████████████████████████████| 242 kB 744 kB/s eta 0:00:01\n",
      "\u001b[?25hRequirement already satisfied: requests in /home/subarna/anaconda3/lib/python3.7/site-packages (from excel2json-3) (2.23.0)\n",
      "Collecting jdcal\n",
      "  Downloading jdcal-1.4.1-py2.py3-none-any.whl (9.5 kB)\n",
      "Collecting et-xmlfile\n",
      "  Downloading et_xmlfile-1.0.1.tar.gz (8.4 kB)\n",
      "Requirement already satisfied: urllib3!=1.25.0,!=1.25.1,<1.26,>=1.21.1 in /home/subarna/anaconda3/lib/python3.7/site-packages (from requests->excel2json-3) (1.25.8)\n",
      "Requirement already satisfied: certifi>=2017.4.17 in /home/subarna/anaconda3/lib/python3.7/site-packages (from requests->excel2json-3) (2020.6.20)\n",
      "Requirement already satisfied: idna<3,>=2.5 in /home/subarna/anaconda3/lib/python3.7/site-packages (from requests->excel2json-3) (2.9)\n",
      "Requirement already satisfied: chardet<4,>=3.0.2 in /home/subarna/anaconda3/lib/python3.7/site-packages (from requests->excel2json-3) (3.0.4)\n",
      "Building wheels for collected packages: et-xmlfile\n",
      "  Building wheel for et-xmlfile (setup.py) ... \u001b[?25ldone\n",
      "\u001b[?25h  Created wheel for et-xmlfile: filename=et_xmlfile-1.0.1-py3-none-any.whl size=8915 sha256=ad30bb10dbd961179454a5aaca10c65130435b11cc501d96b65cc388a8247f27\n",
      "  Stored in directory: /home/subarna/.cache/pip/wheels/e2/bd/55/048b4fd505716c4c298f42ee02dffd9496bb6d212b266c7f31\n",
      "Successfully built et-xmlfile\n",
      "Installing collected packages: jdcal, et-xmlfile, openpyxl, excel2json-3\n",
      "Successfully installed et-xmlfile-1.0.1 excel2json-3-0.1.6 jdcal-1.4.1 openpyxl-3.0.5\n",
      "Note: you may need to restart the kernel to use updated packages.\n"
     ]
    }
   ],
   "source": [
    "pip install excel2json-3"
   ]
  },
  {
   "cell_type": "code",
   "execution_count": 7,
   "metadata": {},
   "outputs": [],
   "source": [
    "import excel2json\n",
    "excel2json.convert_from_file('nodes (copy).xlsx')"
   ]
  },
  {
   "cell_type": "code",
   "execution_count": 8,
   "metadata": {},
   "outputs": [],
   "source": [
    "excel2json.convert_from_file('edges (copy).xlsx')"
   ]
  },
  {
   "cell_type": "code",
   "execution_count": null,
   "metadata": {},
   "outputs": [],
   "source": []
  }
 ],
 "metadata": {
  "kernelspec": {
   "display_name": "Python 3",
   "language": "python",
   "name": "python3"
  },
  "language_info": {
   "codemirror_mode": {
    "name": "ipython",
    "version": 3
   },
   "file_extension": ".py",
   "mimetype": "text/x-python",
   "name": "python",
   "nbconvert_exporter": "python",
   "pygments_lexer": "ipython3",
   "version": "3.7.7"
  }
 },
 "nbformat": 4,
 "nbformat_minor": 4
}
